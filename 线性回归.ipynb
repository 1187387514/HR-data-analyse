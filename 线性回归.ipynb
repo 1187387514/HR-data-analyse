{
 "cells": [
  {
   "cell_type": "code",
   "execution_count": 36,
   "metadata": {},
   "outputs": [],
   "source": [
    "import numpy as np\n",
    "import pandas as pd \n",
    "from sklearn.preprocessing import Normalizer\n",
    "from sklearn.preprocessing import MinMaxScaler,StandardScaler\n",
    "from sklearn.preprocessing import LabelEncoder,OneHotEncoder\n",
    "from sklearn.discriminant_analysis import LinearDiscriminantAnalysis\n",
    "from sklearn.decomposition import PCA\n",
    "from sklearn.model_selection import train_test_split"
   ]
  },
  {
   "cell_type": "code",
   "execution_count": 37,
   "metadata": {},
   "outputs": [],
   "source": [
    "#sl:satisfaction_level--False:MinMaxScaler;True:StandardScaler\n",
    "#le:last_evaluation--False:MinMaxScaler;True:StandardScaler\n",
    "#npr:number_project--False:MinMaxScaler;True:StandardScaler\n",
    "#amh:average_monthly_hours--False:MinMaxScaler;True:StandardScaler\n",
    "#tsc:time_spend_company--False:MinMaxScaler;True:StandardScaler\n",
    "#wa:Work_accident--False:MinMaxScaler;True:StandardScaler\n",
    "#pl5:promotion_last_5years--False:MinMaxScaler;True:StandardScaler\n",
    "#dp:department--False:LabelEncoding;True:OneHotEncoding\n",
    "#sa:salary--False:LabelEncoding;True:OneHotEncoding\n",
    "def preprocessing(sl=False,le=False,npr=False,amh=False,tsc=False,wa=False,pl5=False,dp=False,sa=False,lower_d=False,ld_n=1):\n",
    "    df=pd.read_csv('HR.csv')\n",
    "    #清洗数据\n",
    "    df=df.dropna(subset=['satisfaction_level','last_evaluation'])\n",
    "    df=df[df.last_evaluation<=1][df.salary!='nme']\n",
    "    #得到标注\n",
    "    label=df['left']\n",
    "    df=df.drop('left',axis=1)\n",
    "    #特征选择，因为属性较少先不动\n",
    "    #特征处理\n",
    "    scaler_lst=[sl,le,npr,amh,tsc,wa,pl5]\n",
    "    column_lst=['satisfaction_level','last_evaluation','number_project','average_monthly_hours','time_spend_company','Work_accident','promotion_last_5years']\n",
    "    for i in  range(len(scaler_lst)):\n",
    "        if not scaler_lst[i]:\n",
    "            df[column_lst[i]]=MinMaxScaler().fit_transform( df[column_lst[i]].values.reshape(-1,1))\n",
    "        else:\n",
    "            df[column_lst[i]]=StandardScaler().fit_transform( df[column_lst[i]].values.reshape(-1,1))\n",
    "    scaler_lst=[sa,dp]\n",
    "    column_lst=['salary','department']\n",
    "    for i in range(len(scaler_lst)):\n",
    "        if not scaler_lst[i]:\n",
    "            if column_lst[i]=='salary':\n",
    "                df[column_lst[i]]=[map_salary(k) for k in df['salary'] ]\n",
    "            else:    \n",
    "                df[column_lst[i]]=LabelEncoder().fit_transform( df[column_lst[i]].values.reshape(-1,1))\n",
    "            df[column_lst[i]]=MinMaxScaler().fit_transform( df[column_lst[i]].values.reshape(-1,1))\n",
    "        else:\n",
    "            df=pd.get_dummies( df,columns=[column_lst[i]])\n",
    "    if lower_d:\n",
    "        return PCA(n_components=ld_n).fit_transform(df.values),label\n",
    "    return df,label\n",
    "            \n",
    "    "
   ]
  },
  {
   "cell_type": "code",
   "execution_count": 38,
   "metadata": {},
   "outputs": [],
   "source": [
    "def map_salary(s):\n",
    "    d=dict([('low',0),('medium',1),('high',2)])\n",
    "    return d.get(s,0)"
   ]
  },
  {
   "cell_type": "code",
   "execution_count": 42,
   "metadata": {},
   "outputs": [],
   "source": [
    "def regr_test(feature,label):\n",
    "#     print('X',feature)\n",
    "#     print('Y',label)\n",
    "    from sklearn.linear_model import LinearRegression,Ridge,Lasso\n",
    "#     regr = LinearRegression()\n",
    "#     regr = Ridge()\n",
    "    regr = Lasso(alpha=0.0001)\n",
    "    regr.fit(feature,label)#z这里不一样\n",
    "    Y_pred=regr.predict(feature)\n",
    "    print('Coef',regr.coef_)\n",
    "    from sklearn.metrics import mean_squared_error,mean_absolute_error,r2_score\n",
    "    from sklearn.model_selection import cross_val_score\n",
    "    score = -cross_val_score(regr,feature,label,cv=5,scoring='neg_mean_absolute_error')\n",
    "    print('MSE',mean_squared_error(label,Y_pred))\n",
    "    print('MAE',mean_absolute_error(label,Y_pred))\n",
    "    print('F2',r2_score(label,Y_pred))\n",
    "    print('cross',score)"
   ]
  },
  {
   "cell_type": "code",
   "execution_count": 40,
   "metadata": {},
   "outputs": [],
   "source": [
    "def main():\n",
    "    feature,label= preprocessing()\n",
    "    regr_test(feature[['number_project','average_monthly_hours']],feature['last_evaluation'])"
   ]
  },
  {
   "cell_type": "code",
   "execution_count": 43,
   "metadata": {},
   "outputs": [
    {
     "name": "stdout",
     "output_type": "stream",
     "text": [
      "Coef [0.27156879 0.26782676]\n",
      "MSE 0.059538252102813126\n",
      "MAE 0.20441193615309214\n",
      "F2 0.16759592760720865\n",
      "cross [0.19593626 0.22058581 0.22219131 0.21534438 0.19488377]\n"
     ]
    },
    {
     "name": "stderr",
     "output_type": "stream",
     "text": [
      "C:\\Users\\ni\\Anaconda3\\lib\\site-packages\\sklearn\\utils\\validation.py:595: DataConversionWarning: Data with input dtype int64 was converted to float64 by MinMaxScaler.\n",
      "  warnings.warn(msg, DataConversionWarning)\n",
      "C:\\Users\\ni\\Anaconda3\\lib\\site-packages\\sklearn\\utils\\validation.py:595: DataConversionWarning: Data with input dtype int64 was converted to float64 by MinMaxScaler.\n",
      "  warnings.warn(msg, DataConversionWarning)\n",
      "C:\\Users\\ni\\Anaconda3\\lib\\site-packages\\sklearn\\utils\\validation.py:595: DataConversionWarning: Data with input dtype int64 was converted to float64 by MinMaxScaler.\n",
      "  warnings.warn(msg, DataConversionWarning)\n",
      "C:\\Users\\ni\\Anaconda3\\lib\\site-packages\\sklearn\\utils\\validation.py:595: DataConversionWarning: Data with input dtype int64 was converted to float64 by MinMaxScaler.\n",
      "  warnings.warn(msg, DataConversionWarning)\n",
      "C:\\Users\\ni\\Anaconda3\\lib\\site-packages\\sklearn\\utils\\validation.py:595: DataConversionWarning: Data with input dtype int64 was converted to float64 by MinMaxScaler.\n",
      "  warnings.warn(msg, DataConversionWarning)\n",
      "C:\\Users\\ni\\Anaconda3\\lib\\site-packages\\sklearn\\utils\\validation.py:595: DataConversionWarning: Data with input dtype int64 was converted to float64 by MinMaxScaler.\n",
      "  warnings.warn(msg, DataConversionWarning)\n",
      "C:\\Users\\ni\\Anaconda3\\lib\\site-packages\\sklearn\\preprocessing\\label.py:235: DataConversionWarning: A column-vector y was passed when a 1d array was expected. Please change the shape of y to (n_samples, ), for example using ravel().\n",
      "  y = column_or_1d(y, warn=True)\n",
      "C:\\Users\\ni\\Anaconda3\\lib\\site-packages\\sklearn\\utils\\validation.py:595: DataConversionWarning: Data with input dtype int32 was converted to float64 by MinMaxScaler.\n",
      "  warnings.warn(msg, DataConversionWarning)\n"
     ]
    }
   ],
   "source": [
    "if __name__=='__main__':\n",
    "    main()"
   ]
  },
  {
   "cell_type": "code",
   "execution_count": 35,
   "metadata": {},
   "outputs": [
    {
     "data": {
      "text/plain": [
       "'a'"
      ]
     },
     "execution_count": 35,
     "metadata": {},
     "output_type": "execute_result"
    }
   ],
   "source": [
    "s='abc'\n",
    "t='cba'\n",
    "# sorted(s)\n",
    "s[0]\n"
   ]
  }
 ],
 "metadata": {
  "kernelspec": {
   "display_name": "Python 3",
   "language": "python",
   "name": "python3"
  },
  "language_info": {
   "codemirror_mode": {
    "name": "ipython",
    "version": 3
   },
   "file_extension": ".py",
   "mimetype": "text/x-python",
   "name": "python",
   "nbconvert_exporter": "python",
   "pygments_lexer": "ipython3",
   "version": "3.7.3"
  }
 },
 "nbformat": 4,
 "nbformat_minor": 2
}
