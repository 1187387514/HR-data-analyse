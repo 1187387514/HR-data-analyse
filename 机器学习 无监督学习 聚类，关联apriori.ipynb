{
 "cells": [
  {
   "cell_type": "code",
   "execution_count": 2,
   "metadata": {},
   "outputs": [],
   "source": [
    "import numpy as np \n",
    "import matplotlib.pyplot as plt\n",
    "from sklearn.datasets import make_circles,make_blobs,make_moons\n",
    "from sklearn.cluster import KMeans,DBSCAN,AgglomerativeClustering\n",
    "from sklearn.metrics import silhouette_score"
   ]
  },
  {
   "cell_type": "code",
   "execution_count": 7,
   "metadata": {},
   "outputs": [
    {
     "name": "stdout",
     "output_type": "stream",
     "text": [
      "kmeans 0.3537906347925573\n",
      "kmeans 0.4892206817177722\n",
      "kmeans 0.7863738237114819\n",
      "kmeans 0.3582048124896517\n",
      "DBSCAN 0.1144744237814493\n",
      "DBSCAN 0.3346659565571806\n",
      "DBSCAN 0.8260921886020176\n",
      "AgglomerativeClustering 0.3366248998144355\n",
      "AgglomerativeClustering 0.44679712539823946\n",
      "AgglomerativeClustering 0.7863738237114819\n",
      "AgglomerativeClustering 0.3243564425759335\n"
     ]
    },
    {
     "data": {
      "image/png": "[encoded data removed]",
      "text/plain": [
       "<Figure size 432x288 with 16 Axes>"
      ]
     },
     "metadata": {
      "needs_background": "light"
     },
     "output_type": "display_data"
    }
   ],
   "source": [
    "n_samples=1000\n",
    "circles=make_circles(n_samples=n_samples,factor=0.5,noise=0.05)\n",
    "moons=make_moons(n_samples=n_samples,noise=0.05)\n",
    "blobs=make_blobs(n_samples=n_samples,random_state=8,center_box=(-1,1),cluster_std=0.1)\n",
    "random_data=np.random.rand(n_samples,2),None#这个None目的是让random_data的数据结构和上面的相同\n",
    "colors='bgrcmyk'\n",
    "data=[circles,moons,blobs,random_data]\n",
    "models=[('None',None),('kmeans',KMeans(n_clusters=2)),('DBSCAN',DBSCAN(min_samples=3,eps=0.2)),('AgglomerativeClustering',AgglomerativeClustering(n_clusters=2))]\n",
    "f=plt.figure()\n",
    "for inx,clt in enumerate(models):\n",
    "    clt_name,clt_entity = clt\n",
    "    for i,dataset in enumerate(data):\n",
    "        X,Y=dataset\n",
    "        if not clt_entity:\n",
    "            clt_res=[0 for item in range(len(X))]\n",
    "        else:\n",
    "            clt_entity.fit(X)\n",
    "            clt_res=clt_entity.labels_.astype(np.int)\n",
    "        try:\n",
    "            print(clt_name,silhouette_score(X,clt_res))\n",
    "        except:\n",
    "            pass\n",
    "        f.add_subplot(len(models),len(data),inx*len(data)+i+1)\n",
    "        [plt.scatter(X[p,0],X[p,1],color=colors[clt_res[p]]) for p in range(len(X))]#挺有意思的写法，有空多看看\n",
    "plt.show()\n",
    "            \n",
    "            \n",
    "    "
   ]
  },
  {
   "cell_type": "code",
   "execution_count": 53,
   "metadata": {},
   "outputs": [
    {
     "name": "stdout",
     "output_type": "stream",
     "text": [
      "Freq [({'啤酒'}, 5), ({'尿布'}, 5), ({'尿布', '啤酒'}, 4), ({'牛奶'}, 3)]\n",
      "Conf [[{'尿布'}, 5, {'尿布', '啤酒'}, 4, 0.8], [{'啤酒'}, 5, {'尿布', '啤酒'}, 4, 0.8]]\n",
      "提升度 [[{'尿布'}, 5, {'尿布', '啤酒'}, 4, 0.8, 1.12], [{'啤酒'}, 5, {'尿布', '啤酒'}, 4, 0.8, 1.12]]\n"
     ]
    }
   ],
   "source": [
    "from itertools import combinations\n",
    "def comb(lst):\n",
    "    ret=[]\n",
    "    for i in range(1,len(lst)+1):#获取一个事务所有维度的项目集\n",
    "        ret+=list(combinations(lst,i))\n",
    "    return ret\n",
    "\n",
    "class AprLayer(object):\n",
    "    d=dict() #???这个有啥用\n",
    "    def __init__(self):#通过字典保存对应的节点对象\n",
    "        self.d=dict()\n",
    "        \n",
    "class AprNode(object):\n",
    "    def __init__(self,node):\n",
    "        self.s=set(node)#节点的项目集合\n",
    "        self.size=len(self.s)#节点的项目个数\n",
    "        self.lnk_nodes=dict()#用于保存节点对应的用此节点组成的更高维度节点\n",
    "        self.num=0#这个节点出现的个数，通过以下hash封装再在eq里比较，相同的话加1\n",
    "    def __hash__(self):#封装节点以便于比较节点是否相同\n",
    "        return hash('__'.join(sorted([str(itm) for itm in list(self.s)])))#估计是通过排序加下划线来保证节点的唯一性便于比较\n",
    "    def __eq__(self,other):#比较节点是否相同\n",
    "        if '__'.join(sorted([str(itm) for itm in list(self.s)])) == '__'.join(sorted([str(itm) for itm in list(other.s)])):\n",
    "            return True\n",
    "        return False\n",
    "    def isSubnode(self,node):#判断节点是否括号里节点的子节点\n",
    "        return self.s.issubset(node.s)\n",
    "    def incNum(self,num=1):#增加num的值，方便记录节点出现的次数\n",
    "        self.num+=num\n",
    "    def addLink(self,node):#用于把节点对应的用此节点组成的更高维度节点进行关联\n",
    "        self.lnk_nodes[node]=node.s\n",
    "        \n",
    "class AprBlk(object):#整体框架的类\n",
    "    def __init__(self,data):\n",
    "        self.cnt=0#保存进行到第几个事务的计数\n",
    "        self.apr_layers=dict()#层变量，用于保存不同项目个数的层对象\n",
    "        self.data_num=len(data)#保存事务个数\n",
    "        for datum in data:\n",
    "            self.cnt+=1\n",
    "            datum=comb(datum)#把事务的所有项目集变成列表\n",
    "            nodes=[AprNode(da) for da in datum]#把所有的项目集节点化\n",
    "            for node in nodes:\n",
    "                if not node.size in self.apr_layers:#判断对应项目个数的层对象是否存在，不存在则创建\n",
    "                    self.apr_layers[node.size]=AprLayer()\n",
    "                if not node in self.apr_layers[node.size].d:#判断节点是否在对应的层对象里存在，若没有则添加到对应层对象的字典里\n",
    "                    self.apr_layers[node.size].d[node]=node#这里没问题吗\n",
    "                self.apr_layers[node.size].d[node].incNum()#每循环一次想赢节点的num数加一，方便之后统计频率以及置信\n",
    "            for node in nodes:#循环所有的节点，先判断他是否有更低维度的关联节点，若无，则跳过，若有，则找出所有关联的低一维节点进行关联\n",
    "                if node.size==1:\n",
    "                    continue\n",
    "                for sn in node.s:\n",
    "                    sub_n=AprNode(node.s-set([sn]))#-set([sn])如果变成-set((sn))会报错\n",
    "                    self.apr_layers[node.size-1].d[sub_n].addLink(node)\n",
    "                    \n",
    "    def getFreqItems(self,thd=1,hd=1):\n",
    "        freq_items=[]#循环判断每个节点出现的次数有无超过阈值，没有则跳过，有则以节点值\\\n",
    "        #和出现个数的元组形式添加到列表里，最后排序，以参数规定的个数返回\n",
    "        for layer in self.apr_layers:\n",
    "            for node in self.apr_layers[layer].d:\n",
    "                if self.apr_layers[layer].d[node].num < thd:\n",
    "                    continue\n",
    "                freq_items.append((self.apr_layers[layer].d[node].s,self.apr_layers[layer].d[node].num))\n",
    "        freq_items.sort(key=lambda x:x[1],reverse=True)\n",
    "        return freq_items[:hd]\n",
    "    \n",
    "    def getConf(self,low=True,h_thd=10,l_thd=1,hd=1):\n",
    "        confidence=[]#找到节点以及相应的高一维节点，判断是否超过阈值，若都超过则算置信度，\\\n",
    "        #并加入到结果列表里，排序，根据参数输出高置信组合或者低置信组合。\n",
    "        for layer in self.apr_layers:\n",
    "            for node in self.apr_layers[layer].d:\n",
    "                if self.apr_layers[layer].d[node].num<h_thd:\n",
    "                    continue\n",
    "                for lnk_node in node.lnk_nodes:\n",
    "                    if lnk_node.num<l_thd:\n",
    "                        continue \n",
    "                    conf=float(lnk_node.num)/float(node.num)\n",
    "                    confidence.append([node.s,node.num,lnk_node.s,lnk_node.num,conf])\n",
    "        confidence.sort(key=lambda x:x[4])\n",
    "        if low:\n",
    "            return confidence[:hd]\n",
    "        else:\n",
    "            return confidence[-hd::-1]\n",
    "    \n",
    "    def getimprove(self,thd=10,hd=1):\n",
    "        improve=[]\n",
    "        for layer in self.apr_layers:\n",
    "            for node in self.apr_layers[layer].d:\n",
    "                if self.apr_layers[layer].d[node].num<thd:\n",
    "                    continue\n",
    "                for lnk_node in node.lnk_nodes:\n",
    "                    if lnk_node.num<thd:\n",
    "                        continue \n",
    "                    conf=float(lnk_node.num)/float(node.num)\n",
    "                    other=AprNode(lnk_node.s-node.s)\n",
    "                    other=self.apr_layers[other.size].d[other]\n",
    "                    imp=conf/(float(other.num)/float(self.cnt))\n",
    "                    improve.append([other.s,other.num,lnk_node.s,lnk_node.num,conf,imp])\n",
    "        improve.sort(key=lambda x:x[5],reverse=True)\n",
    "        return improve[:hd]\n",
    "    \n",
    "class AssctAnaClass():#主类\n",
    "    def fit(self,data):#把数据apriori化\n",
    "        self.apr_blk=AprBlk(data)\n",
    "        return self\n",
    "    def get_freq(self,thd=1,hd=1):#或许高频项目集\n",
    "        return self.apr_blk.getFreqItems(thd=thd,hd=hd)\n",
    "    def get_conf_high(self,thd,h_thd=10):#获取高置信组合\n",
    "        return self.apr_blk.getConf(low=False,h_thd=thd,l_thd=thd)\n",
    "    def get_conf_low(self,thd,hd,l_thd=1):#获取低置信组合\n",
    "        return self.apr_blk.getConf(h_thd=thd,l_thd=l_thd,hd=hd)\n",
    "    def get_imp(self,thd,hd):\n",
    "        return self.apr_blk.getimprove(thd=thd,hd=hd)\n",
    "    \n",
    "\n",
    "    \n",
    "def main():\n",
    "    data=[\n",
    "        [\"牛奶\",\"啤酒\",\"尿布\"],\n",
    "        [\"牛奶\",\"啤酒\",\"咖啡\",\"尿布\"],\n",
    "        [\"香肠\",\"牛奶\",\"饼干\"],\n",
    "        [\"尿布\",\"果汁\",\"啤酒\"],\n",
    "        [\"钉子\",\"啤酒\"],\n",
    "        [\"尿布\",\"毛巾\",\"香肠\"],\n",
    "        [\"啤酒\",\"毛巾\",\"尿布\",\"饼干\"]\n",
    "    ]\n",
    "    print(\"Freq\",AssctAnaClass().fit(data).get_freq(thd=3,hd=10))\n",
    "    print(\"Conf\",AssctAnaClass().fit(data).get_conf_high(thd=3,h_thd=3))\n",
    "    print('提升度',AssctAnaClass().fit(data).get_imp(thd=3,hd=10))\n",
    "    \n",
    "if __name__==\"__main__\":\n",
    "    main()\n",
    "                \n",
    "    \n",
    "        \n",
    "    "
   ]
  },
  {
   "cell_type": "code",
   "execution_count": 34,
   "metadata": {},
   "outputs": [
    {
     "name": "stdout",
     "output_type": "stream",
     "text": [
      "{2: 2}\n"
     ]
    }
   ],
   "source": [
    "tem=dict()\n",
    "x=2\n",
    "tem[x]=x\n",
    "print(tem)"
   ]
  }
 ],
 "metadata": {
  "kernelspec": {
   "display_name": "Python 3",
   "language": "python",
   "name": "python3"
  },
  "language_info": {
   "codemirror_mode": {
    "name": "ipython",
    "version": 3
   },
   "file_extension": ".py",
   "mimetype": "text/x-python",
   "name": "python",
   "nbconvert_exporter": "python",
   "pygments_lexer": "ipython3",
   "version": "3.7.3"
  }
 },
 "nbformat": 4,
 "nbformat_minor": 2
}
